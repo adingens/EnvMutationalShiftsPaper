{
 "cells": [
  {
   "cell_type": "markdown",
   "metadata": {},
   "source": [
    "# Comparing mutational effects among Env homologs\n",
    "\n",
    "## Overview\n",
    "This Jupyter notebook compares the effects of mutations between two homologs of HIV Env, the BG505 and BF520 strains.\n",
    "The goal is to quantify how much the effects of mutations have shifted between the viral strains.\n",
    "\n",
    "This analysis was done by Hugh Haddox, Adam Dingens, Sarah Hilton, and Jesse Bloom."
   ]
  },
  {
   "cell_type": "markdown",
   "metadata": {},
   "source": [
    "## Import modules and define common paths\n",
    "First we import Python modules used throughout the notebook, and define key directory paths."
   ]
  },
  {
   "cell_type": "code",
   "execution_count": 1,
   "metadata": {},
   "outputs": [
    {
     "name": "stdout",
     "output_type": "stream",
     "text": [
      "Using dms_tools2 version 2.2.dev0\n",
      "Using phydms version 2.1.dev4\n"
     ]
    }
   ],
   "source": [
    "import os\n",
    "import string\n",
    "import itertools\n",
    "import pandas\n",
    "import Bio.SeqIO\n",
    "import Bio.Seq\n",
    "import dms_tools2\n",
    "print(\"Using dms_tools2 version {0}\".format(dms_tools2.__version__))\n",
    "from dms_tools2.ipython_utils import showPDF\n",
    "import phydmslib\n",
    "print(\"Using phydms version {0}\".format(phydmslib.__version__))\n",
    "\n",
    "# define directories in which results are placed\n",
    "resultsdir = './results/'\n",
    "if not os.path.isdir(resultsdir):\n",
    "    os.mkdir(resultsdir)"
   ]
  },
  {
   "cell_type": "markdown",
   "metadata": {},
   "source": [
    "## Specify Env coding sequences, homolog alignments, and site numbering\n",
    "A major complexity is how to number and align the two Env homologs.\n",
    "For computational purposes, it is often convenient to number the sequences sequentially as 1, 2, ... beginning with the N-terminal methionine.\n",
    "However, the standard numbering scheme for HIV Env is the [HXB2 numbering scheme](https://www.hiv.lanl.gov/content/sequence/HIV/REVIEWS/HXB2.html).\n",
    "In this notebook, we process the FASTQ files and count the mutations in sequential numbering, and then map these numbers to the [HXB2 numbering scheme](https://www.hiv.lanl.gov/content/sequence/HIV/REVIEWS/HXB2.html) for all subsequent steps.\n",
    "\n",
    "In addition, we need to align the Env homologs, and take into account that we only mutagenized a portion of Env (we excluded the N-terminal signal peptide and the C-terminal cytoplasmic tail).\n",
    "\n",
    "First, we define the files holding the Env coding sequences (these are [./data/BG505_env.fasta](./data/BG505_env.fasta) and [./data/BF520_env.fasta](./data/BF520_env.fasta)) as well as the regions of these sequences that were mutagenized in sequential 1, 2, ... numbering."
   ]
  },
  {
   "cell_type": "code",
   "execution_count": 2,
   "metadata": {
    "collapsed": true
   },
   "outputs": [],
   "source": [
    "# the homologs that we are examining\n",
    "homologs = ['BG505', 'BF520']\n",
    "\n",
    "# files with codon sequences\n",
    "wtseqfiles = dict([(env, './data/{0}_env.fasta'.format(env)) for env in homologs])\n",
    "\n",
    "# the mutagenized codon sites in 1, 2, ... numbering\n",
    "# for both this is 31-702 in HXB2 numbering\n",
    "mutagenizedsites = {\n",
    "        'BG505':list(range(30, 699 + 1)),\n",
    "        'BF520':list(range(30, 691 + 1))\n",
    "        }"
   ]
  },
  {
   "cell_type": "markdown",
   "metadata": {},
   "source": [
    "Now we read in the aligned sequences of the Env homologs and HXB2.\n",
    "This alignment was created with [mafft](https://mafft.cbrc.jp/alignment/software/) and then manually edited by Hugh Haddox in some of the variable loop regions that align very poorly.\n",
    "The manually edited alignment is in [./data/Env_protalignment_manualtweaks.fasta](./data/Env_protalignment_manualtweaks.fasta).\n",
    "\n",
    "After reading in the aligned proteins from file, we compute the pairwise identity of the two sequences over all non-gapped **mutagenized** sites (we do not include the sites not mutagenized in this calculation):"
   ]
  },
  {
   "cell_type": "code",
   "execution_count": null,
   "metadata": {},
   "outputs": [
    {
     "name": "stdout",
     "output_type": "stream",
     "text": [
      "The BG505 and BF520 proteins are 0.862 identical (732 of 849 alignable sites)\n"
     ]
    }
   ],
   "source": [
    "protalignmentfile = './data/Env_protalignment_manualtweaks.fasta'\n",
    "alignedprots = dict([(seq.name, str(seq.seq)) for seq in \n",
    "        Bio.SeqIO.parse(protalignmentfile, 'fasta')])\n",
    "\n",
    "for (env1, env2) in itertools.combinations(homologs, 2):\n",
    "    (s1, s2) = (alignedprots[env1], alignedprots[env2])\n",
    "    sites = [r for r in range(len(s1)) if s1[r] != '-' and s2[r] != '-']\n",
    "    nident = sum([s1[r] == s2[r] for r in sites])\n",
    "    print(\"The {0} and {1} proteins are {2:.3f} identical ({3} of {4} alignable sites)\"\n",
    "            .format(env1, env2, nident / float(len(sites)), nident, len(sites)))"
   ]
  },
  {
   "cell_type": "markdown",
   "metadata": {},
   "source": [
    "Now we create files that map each residue in our Env homologs to comparable residue sequential numbering of HXB2.\n",
    "This creates a mapping to the [HXB2 numbering scheme](https://www.hiv.lanl.gov/content/sequence/HIV/REVIEWS/HXB2.html) that we will use later.\n",
    "The renumbering files have columns named *original* (sequential 1, 2, ... numbering) and *new* (HXB2 numbering)."
   ]
  },
  {
   "cell_type": "code",
   "execution_count": null,
   "metadata": {},
   "outputs": [],
   "source": [
    "renumbdir = os.path.join(resultsdir, 'HXB2_numbering')\n",
    "if not os.path.isdir(renumbdir):\n",
    "    os.mkdir(renumbdir)\n",
    "\n",
    "for env in homologs:\n",
    "    \n",
    "    # first build numbering with HXB2 numbers potentially repeated\n",
    "    hxb2_r = 1\n",
    "    hxb2_nums = [] # holds HXB2 numbers\n",
    "    for (hxb2_aa, aa) in zip(alignedprots['HXB2'], alignedprots[env]):\n",
    "        if aa != '-':\n",
    "            hxb2_nums.append(str(hxb2_r - int(hxb2_aa == '-')))\n",
    "        if hxb2_aa != '-':\n",
    "            hxb2_r += 1\n",
    "            \n",
    "    # now take all runs of HXB2 numbers and make them 10, 10a, 10b, etc...\n",
    "    for num in set(hxb2_nums):\n",
    "        n_num = hxb2_nums.count(num)\n",
    "        firstnum = hxb2_nums.index(num)\n",
    "        for i in range(n_num - 1):\n",
    "            hxb2_nums[firstnum + i + 1] = num + string.ascii_lowercase[i]\n",
    "                \n",
    "    # now write renumbering file\n",
    "    renumbfile = os.path.join(renumbdir, '{0}_to_HXB2.csv'.format(env))\n",
    "    print(\"Writing HXB2 renumbering file for {0} to {1}\".format(env, renumbfile))\n",
    "    with open(renumbfile, 'w') as f:\n",
    "        f.write('original,new\\n')\n",
    "        for (r, new) in enumerate(hxb2_nums):\n",
    "            f.write('{0},{1}\\n'.format(r + 1, new))      "
   ]
  },
  {
   "cell_type": "code",
   "execution_count": null,
   "metadata": {
    "collapsed": true
   },
   "outputs": [],
   "source": []
  }
 ],
 "metadata": {
  "kernelspec": {
   "display_name": "Python 3",
   "language": "python",
   "name": "python3"
  },
  "language_info": {
   "codemirror_mode": {
    "name": "ipython",
    "version": 3
   },
   "file_extension": ".py",
   "mimetype": "text/x-python",
   "name": "python",
   "nbconvert_exporter": "python",
   "pygments_lexer": "ipython3",
   "version": "3.5.2"
  }
 },
 "nbformat": 4,
 "nbformat_minor": 2
}
